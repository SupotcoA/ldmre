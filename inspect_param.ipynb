{
 "cells": [
  {
   "cell_type": "code",
   "execution_count": 1,
   "metadata": {},
   "outputs": [],
   "source": [
    "import torch\n",
    "from utils import calculate_num_params\n",
    "from diffusion_model_edm_unet import DiffusionModel"
   ]
  },
  {
   "cell_type": "code",
   "execution_count": null,
   "metadata": {},
   "outputs": [
    {
     "name": "stdout",
     "output_type": "stream",
     "text": [
      "68373892\n"
     ]
    }
   ],
   "source": [
    "unet_config = dict(\n",
    "    in_channels=4,\n",
    "    emb_dim=128,\n",
    "    channels_mult= (2, 4),\n",
    "    num_res_blocks=2,\n",
    "    attn_resolutions=(8, 16),\n",
    "    out_channels=None,\n",
    "    cond_dim=512,\n",
    "    n_class=5\n",
    ")\n",
    "\n",
    "dm = DiffusionModel(net_config=unet_config,\n",
    "                    diffusion_config=None\n",
    "                    )\n",
    "\n",
    "print(calculate_num_params(dm.net))"
   ]
  },
  {
   "cell_type": "code",
   "execution_count": 67,
   "metadata": {},
   "outputs": [],
   "source": [
    "sd = dm.net.state_dict()"
   ]
  },
  {
   "cell_type": "code",
   "execution_count": 68,
   "metadata": {},
   "outputs": [],
   "source": [
    "def calculate_num_params_():\n",
    "    for k in sd:\n",
    "        print(sd[k].requires_grad,f\"{sd[k].numel():>8d}\",k)"
   ]
  },
  {
   "cell_type": "code",
   "execution_count": 69,
   "metadata": {},
   "outputs": [
    {
     "name": "stdout",
     "output_type": "stream",
     "text": [
      "False     4608 net.conv_in.weight\n",
      "False      128 net.conv_in.bias\n",
      "False      128 net.down.0.block.0.norm1.weight\n",
      "False      128 net.down.0.block.0.norm1.bias\n",
      "False   294912 net.down.0.block.0.conv1.weight\n",
      "False      256 net.down.0.block.0.conv1.bias\n",
      "False   262144 net.down.0.block.0.norm2.fc.weight\n",
      "False      512 net.down.0.block.0.norm2.fc.bias\n",
      "False   589824 net.down.0.block.0.conv2.weight\n",
      "False      256 net.down.0.block.0.conv2.bias\n",
      "False    32768 net.down.0.block.0.conv_short_cut.weight\n",
      "False      256 net.down.0.block.0.conv_short_cut.bias\n",
      "False      256 net.down.0.block.1.norm1.weight\n",
      "False      256 net.down.0.block.1.norm1.bias\n",
      "False   589824 net.down.0.block.1.conv1.weight\n",
      "False      256 net.down.0.block.1.conv1.bias\n",
      "False   262144 net.down.0.block.1.norm2.fc.weight\n",
      "False      512 net.down.0.block.1.norm2.fc.bias\n",
      "False   589824 net.down.0.block.1.conv2.weight\n",
      "False      256 net.down.0.block.1.conv2.bias\n",
      "False   589824 net.down.0.downsample.conv.weight\n",
      "False      256 net.down.0.downsample.conv.bias\n",
      "False      256 net.down.1.block.0.norm1.weight\n",
      "False      256 net.down.1.block.0.norm1.bias\n",
      "False  1179648 net.down.1.block.0.conv1.weight\n",
      "False      512 net.down.1.block.0.conv1.bias\n",
      "False   524288 net.down.1.block.0.norm2.fc.weight\n",
      "False     1024 net.down.1.block.0.norm2.fc.bias\n",
      "False  2359296 net.down.1.block.0.conv2.weight\n",
      "False      512 net.down.1.block.0.conv2.bias\n",
      "False   131072 net.down.1.block.0.conv_short_cut.weight\n",
      "False      512 net.down.1.block.0.conv_short_cut.bias\n",
      "False      512 net.down.1.block.1.norm1.weight\n",
      "False      512 net.down.1.block.1.norm1.bias\n",
      "False  2359296 net.down.1.block.1.conv1.weight\n",
      "False      512 net.down.1.block.1.conv1.bias\n",
      "False   524288 net.down.1.block.1.norm2.fc.weight\n",
      "False     1024 net.down.1.block.1.norm2.fc.bias\n",
      "False  2359296 net.down.1.block.1.conv2.weight\n",
      "False      512 net.down.1.block.1.conv2.bias\n",
      "False      512 net.down.1.attn.0.norm.weight\n",
      "False      512 net.down.1.attn.0.norm.bias\n",
      "False   786432 net.down.1.attn.0.to_qkv.weight\n",
      "False     1536 net.down.1.attn.0.to_qkv.bias\n",
      "False   786432 net.down.1.attn.0.attention.in_proj_weight\n",
      "False     1536 net.down.1.attn.0.attention.in_proj_bias\n",
      "False   262144 net.down.1.attn.0.attention.out_proj.weight\n",
      "False      512 net.down.1.attn.0.attention.out_proj.bias\n",
      "False   262144 net.down.1.attn.0.proj_out.weight\n",
      "False      512 net.down.1.attn.0.proj_out.bias\n",
      "False      512 net.down.1.attn.1.norm.weight\n",
      "False      512 net.down.1.attn.1.norm.bias\n",
      "False   786432 net.down.1.attn.1.to_qkv.weight\n",
      "False     1536 net.down.1.attn.1.to_qkv.bias\n",
      "False   786432 net.down.1.attn.1.attention.in_proj_weight\n",
      "False     1536 net.down.1.attn.1.attention.in_proj_bias\n",
      "False   262144 net.down.1.attn.1.attention.out_proj.weight\n",
      "False      512 net.down.1.attn.1.attention.out_proj.bias\n",
      "False   262144 net.down.1.attn.1.proj_out.weight\n",
      "False      512 net.down.1.attn.1.proj_out.bias\n",
      "False      512 net.mid.block_1.norm1.weight\n",
      "False      512 net.mid.block_1.norm1.bias\n",
      "False  2359296 net.mid.block_1.conv1.weight\n",
      "False      512 net.mid.block_1.conv1.bias\n",
      "False   524288 net.mid.block_1.norm2.fc.weight\n",
      "False     1024 net.mid.block_1.norm2.fc.bias\n",
      "False  2359296 net.mid.block_1.conv2.weight\n",
      "False      512 net.mid.block_1.conv2.bias\n",
      "False      512 net.mid.attn_1.norm.weight\n",
      "False      512 net.mid.attn_1.norm.bias\n",
      "False   786432 net.mid.attn_1.to_qkv.weight\n",
      "False     1536 net.mid.attn_1.to_qkv.bias\n",
      "False   786432 net.mid.attn_1.attention.in_proj_weight\n",
      "False     1536 net.mid.attn_1.attention.in_proj_bias\n",
      "False   262144 net.mid.attn_1.attention.out_proj.weight\n",
      "False      512 net.mid.attn_1.attention.out_proj.bias\n",
      "False   262144 net.mid.attn_1.proj_out.weight\n",
      "False      512 net.mid.attn_1.proj_out.bias\n",
      "False      512 net.mid.block_2.norm1.weight\n",
      "False      512 net.mid.block_2.norm1.bias\n",
      "False  2359296 net.mid.block_2.conv1.weight\n",
      "False      512 net.mid.block_2.conv1.bias\n",
      "False   524288 net.mid.block_2.norm2.fc.weight\n",
      "False     1024 net.mid.block_2.norm2.fc.bias\n",
      "False  2359296 net.mid.block_2.conv2.weight\n",
      "False      512 net.mid.block_2.conv2.bias\n",
      "False      768 net.up.0.block.0.norm1.weight\n",
      "False      768 net.up.0.block.0.norm1.bias\n",
      "False  1769472 net.up.0.block.0.conv1.weight\n",
      "False      256 net.up.0.block.0.conv1.bias\n",
      "False   262144 net.up.0.block.0.norm2.fc.weight\n",
      "False      512 net.up.0.block.0.norm2.fc.bias\n",
      "False   589824 net.up.0.block.0.conv2.weight\n",
      "False      256 net.up.0.block.0.conv2.bias\n",
      "False   196608 net.up.0.block.0.conv_short_cut.weight\n",
      "False      256 net.up.0.block.0.conv_short_cut.bias\n",
      "False      512 net.up.0.block.1.norm1.weight\n",
      "False      512 net.up.0.block.1.norm1.bias\n",
      "False  1179648 net.up.0.block.1.conv1.weight\n",
      "False      256 net.up.0.block.1.conv1.bias\n",
      "False   262144 net.up.0.block.1.norm2.fc.weight\n",
      "False      512 net.up.0.block.1.norm2.fc.bias\n",
      "False   589824 net.up.0.block.1.conv2.weight\n",
      "False      256 net.up.0.block.1.conv2.bias\n",
      "False   131072 net.up.0.block.1.conv_short_cut.weight\n",
      "False      256 net.up.0.block.1.conv_short_cut.bias\n",
      "False      384 net.up.0.block.2.norm1.weight\n",
      "False      384 net.up.0.block.2.norm1.bias\n",
      "False   884736 net.up.0.block.2.conv1.weight\n",
      "False      256 net.up.0.block.2.conv1.bias\n",
      "False   262144 net.up.0.block.2.norm2.fc.weight\n",
      "False      512 net.up.0.block.2.norm2.fc.bias\n",
      "False   589824 net.up.0.block.2.conv2.weight\n",
      "False      256 net.up.0.block.2.conv2.bias\n",
      "False    98304 net.up.0.block.2.conv_short_cut.weight\n",
      "False      256 net.up.0.block.2.conv_short_cut.bias\n",
      "False     1024 net.up.1.block.0.norm1.weight\n",
      "False     1024 net.up.1.block.0.norm1.bias\n",
      "False  4718592 net.up.1.block.0.conv1.weight\n",
      "False      512 net.up.1.block.0.conv1.bias\n",
      "False   524288 net.up.1.block.0.norm2.fc.weight\n",
      "False     1024 net.up.1.block.0.norm2.fc.bias\n",
      "False  2359296 net.up.1.block.0.conv2.weight\n",
      "False      512 net.up.1.block.0.conv2.bias\n",
      "False   524288 net.up.1.block.0.conv_short_cut.weight\n",
      "False      512 net.up.1.block.0.conv_short_cut.bias\n",
      "False     1024 net.up.1.block.1.norm1.weight\n",
      "False     1024 net.up.1.block.1.norm1.bias\n",
      "False  4718592 net.up.1.block.1.conv1.weight\n",
      "False      512 net.up.1.block.1.conv1.bias\n",
      "False   524288 net.up.1.block.1.norm2.fc.weight\n",
      "False     1024 net.up.1.block.1.norm2.fc.bias\n",
      "False  2359296 net.up.1.block.1.conv2.weight\n",
      "False      512 net.up.1.block.1.conv2.bias\n",
      "False   524288 net.up.1.block.1.conv_short_cut.weight\n",
      "False      512 net.up.1.block.1.conv_short_cut.bias\n",
      "False      768 net.up.1.block.2.norm1.weight\n",
      "False      768 net.up.1.block.2.norm1.bias\n",
      "False  3538944 net.up.1.block.2.conv1.weight\n",
      "False      512 net.up.1.block.2.conv1.bias\n",
      "False   524288 net.up.1.block.2.norm2.fc.weight\n",
      "False     1024 net.up.1.block.2.norm2.fc.bias\n",
      "False  2359296 net.up.1.block.2.conv2.weight\n",
      "False      512 net.up.1.block.2.conv2.bias\n",
      "False   393216 net.up.1.block.2.conv_short_cut.weight\n",
      "False      512 net.up.1.block.2.conv_short_cut.bias\n",
      "False      512 net.up.1.attn.0.norm.weight\n",
      "False      512 net.up.1.attn.0.norm.bias\n",
      "False   786432 net.up.1.attn.0.to_qkv.weight\n",
      "False     1536 net.up.1.attn.0.to_qkv.bias\n",
      "False   786432 net.up.1.attn.0.attention.in_proj_weight\n",
      "False     1536 net.up.1.attn.0.attention.in_proj_bias\n",
      "False   262144 net.up.1.attn.0.attention.out_proj.weight\n",
      "False      512 net.up.1.attn.0.attention.out_proj.bias\n",
      "False   262144 net.up.1.attn.0.proj_out.weight\n",
      "False      512 net.up.1.attn.0.proj_out.bias\n",
      "False      512 net.up.1.attn.1.norm.weight\n",
      "False      512 net.up.1.attn.1.norm.bias\n",
      "False   786432 net.up.1.attn.1.to_qkv.weight\n",
      "False     1536 net.up.1.attn.1.to_qkv.bias\n",
      "False   786432 net.up.1.attn.1.attention.in_proj_weight\n",
      "False     1536 net.up.1.attn.1.attention.in_proj_bias\n",
      "False   262144 net.up.1.attn.1.attention.out_proj.weight\n",
      "False      512 net.up.1.attn.1.attention.out_proj.bias\n",
      "False   262144 net.up.1.attn.1.proj_out.weight\n",
      "False      512 net.up.1.attn.1.proj_out.bias\n",
      "False      512 net.up.1.attn.2.norm.weight\n",
      "False      512 net.up.1.attn.2.norm.bias\n",
      "False   786432 net.up.1.attn.2.to_qkv.weight\n",
      "False     1536 net.up.1.attn.2.to_qkv.bias\n",
      "False   786432 net.up.1.attn.2.attention.in_proj_weight\n",
      "False     1536 net.up.1.attn.2.attention.in_proj_bias\n",
      "False   262144 net.up.1.attn.2.attention.out_proj.weight\n",
      "False      512 net.up.1.attn.2.attention.out_proj.bias\n",
      "False   262144 net.up.1.attn.2.proj_out.weight\n",
      "False      512 net.up.1.attn.2.proj_out.bias\n",
      "False  2359296 net.up.1.upsample.conv.weight\n",
      "False      512 net.up.1.upsample.conv.bias\n",
      "False      256 net.norm_out.weight\n",
      "False      256 net.norm_out.bias\n",
      "False     9216 net.conv_out.weight\n",
      "False        4 net.conv_out.bias\n",
      "False      128 t_emd.freq\n",
      "False      128 t_emd.phi\n",
      "False     2560 cls_emb.cls_emb\n",
      "False    65536 cond_mlp.0.weight\n",
      "False      512 cond_mlp.0.bias\n",
      "False   262144 cond_mlp.2.weight\n",
      "False      512 cond_mlp.2.bias\n"
     ]
    }
   ],
   "source": [
    "calculate_num_params_()"
   ]
  },
  {
   "cell_type": "code",
   "execution_count": 70,
   "metadata": {},
   "outputs": [
    {
     "data": {
      "text/plain": [
       "68373892"
      ]
     },
     "execution_count": 70,
     "metadata": {},
     "output_type": "execute_result"
    }
   ],
   "source": [
    "calculate_num_params(dm.net)"
   ]
  },
  {
   "cell_type": "code",
   "execution_count": 71,
   "metadata": {},
   "outputs": [],
   "source": [
    "def calculate_num_params__(kw):\n",
    "    n=0\n",
    "    for k in sd:\n",
    "        if kw in k:\n",
    "            n+=sd[k].numel()\n",
    "    print(n)"
   ]
  },
  {
   "cell_type": "code",
   "execution_count": 72,
   "metadata": {},
   "outputs": [
    {
     "name": "stdout",
     "output_type": "stream",
     "text": [
      "16862464\n"
     ]
    }
   ],
   "source": [
    "calculate_num_params__(\"down\")"
   ]
  },
  {
   "cell_type": "code",
   "execution_count": 73,
   "metadata": {},
   "outputs": [
    {
     "name": "stdout",
     "output_type": "stream",
     "text": [
      "12594176\n"
     ]
    }
   ],
   "source": [
    "calculate_num_params__(\"mid\")"
   ]
  },
  {
   "cell_type": "code",
   "execution_count": 74,
   "metadata": {},
   "outputs": [
    {
     "name": "stdout",
     "output_type": "stream",
     "text": [
      "38571520\n"
     ]
    }
   ],
   "source": [
    "calculate_num_params__(\"up\")"
   ]
  },
  {
   "cell_type": "code",
   "execution_count": 75,
   "metadata": {},
   "outputs": [
    {
     "name": "stdout",
     "output_type": "stream",
     "text": [
      "12613632\n"
     ]
    }
   ],
   "source": [
    "calculate_num_params__(\"attn\")"
   ]
  },
  {
   "cell_type": "code",
   "execution_count": 76,
   "metadata": {},
   "outputs": [
    {
     "name": "stdout",
     "output_type": "stream",
     "text": [
      "5010432\n"
     ]
    }
   ],
   "source": [
    "calculate_num_params__(\"norm\")"
   ]
  },
  {
   "cell_type": "code",
   "execution_count": 77,
   "metadata": {},
   "outputs": [
    {
     "name": "stdout",
     "output_type": "stream",
     "text": [
      "50424708\n"
     ]
    }
   ],
   "source": [
    "calculate_num_params__(\"conv\")"
   ]
  },
  {
   "cell_type": "code",
   "execution_count": null,
   "metadata": {},
   "outputs": [],
   "source": []
  }
 ],
 "metadata": {
  "kernelspec": {
   "display_name": "Python 3",
   "language": "python",
   "name": "python3"
  },
  "language_info": {
   "codemirror_mode": {
    "name": "ipython",
    "version": 3
   },
   "file_extension": ".py",
   "mimetype": "text/x-python",
   "name": "python",
   "nbconvert_exporter": "python",
   "pygments_lexer": "ipython3",
   "version": "3.9.6"
  }
 },
 "nbformat": 4,
 "nbformat_minor": 2
}
